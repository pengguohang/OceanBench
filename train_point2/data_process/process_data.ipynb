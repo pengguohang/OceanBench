{
 "cells": [
  {
   "cell_type": "code",
   "execution_count": 1,
   "metadata": {},
   "outputs": [],
   "source": [
    "import netCDF4 as nc\n",
    "import h5py\n",
    "import xarray as xr\n",
    "\n",
    "import numpy as np\n",
    "import matplotlib.pyplot as plt\n",
    "import pandas as pd\n",
    "\n",
    "import torch\n",
    "from torch.utils.data import Dataset, IterableDataset\n",
    "import torch.nn.functional as F\n",
    "\n",
    "import os\n",
    "from pathlib import Path\n",
    "import re\n",
    "from datetime import datetime\n"
   ]
  },
  {
   "cell_type": "markdown",
   "metadata": {},
   "source": [
    "# SST"
   ]
  },
  {
   "cell_type": "code",
   "execution_count": 6,
   "metadata": {},
   "outputs": [
    {
     "name": "stdout",
     "output_type": "stream",
     "text": [
      "<xarray.Dataset>\n",
      "Dimensions:  (lat: 720, lon: 1440, zlev: 1, time: 313)\n",
      "Coordinates:\n",
      "  * lat      (lat) float32 -89.88 -89.62 -89.38 -89.12 ... 89.38 89.62 89.88\n",
      "  * lon      (lon) float32 0.125 0.375 0.625 0.875 ... 359.1 359.4 359.6 359.9\n",
      "  * zlev     (zlev) float32 0.0\n",
      "Dimensions without coordinates: time\n",
      "Data variables:\n",
      "    sst      (time, zlev, lat, lon) float32 ...\n",
      "    anom     (time, zlev, lat, lon) float32 ...\n",
      "    err      (time, zlev, lat, lon) float32 ...\n",
      "Coordinates:\n",
      "  * lat      (lat) float32 -89.88 -89.62 -89.38 -89.12 ... 89.38 89.62 89.88\n",
      "  * lon      (lon) float32 0.125 0.375 0.625 0.875 ... -0.625 -0.375 -0.125\n",
      "  * time     (time) datetime64[ns] 1993-01-01 1993-02-01 ... 2019-01-01\n",
      "<xarray.Dataset>\n",
      "Dimensions:  (lat: 720, lon: 1440, time: 313)\n",
      "Coordinates:\n",
      "  * lat      (lat) float32 -89.88 -89.62 -89.38 -89.12 ... 89.38 89.62 89.88\n",
      "  * lon      (lon) float32 0.125 0.375 0.625 0.875 ... -0.625 -0.375 -0.125\n",
      "  * time     (time) datetime64[ns] 1993-01-01 1993-02-01 ... 2019-01-01\n",
      "Data variables:\n",
      "    sst      (time, lat, lon) float32 ...\n",
      "    anom     (time, lat, lon) float32 ...\n",
      "    err      (time, lat, lon) float32 ...\n"
     ]
    }
   ],
   "source": [
    "# 重新读取, 将lon转换为-180至180\n",
    "path = '/home/data2/pengguohang/My_Ocean/challenge/1993_2019_data/raw/oisst_199301_201901_monthly.nc'\n",
    "ds = xr.open_dataset(path)\n",
    "print(ds)\n",
    "\n",
    "# 将经度从0到360转换为-180到180\n",
    "ds = ds.assign_coords(lon=((ds.lon - 180) % 360) - 180)\n",
    "\n",
    "# 删除 zlev 维度\n",
    "ds = ds.drop('zlev')\n",
    "ds = ds.squeeze(dim='zlev')\n",
    "# 创建时间坐标\n",
    "time_coords = pd.date_range(start='1993-01-01', end='2019-01-01', freq='MS')\n",
    "ds = ds.assign_coords(time=time_coords)\n",
    "\n",
    "print(ds.coords)\n",
    "print(ds)\n"
   ]
  },
  {
   "cell_type": "code",
   "execution_count": 3,
   "metadata": {},
   "outputs": [
    {
     "name": "stdout",
     "output_type": "stream",
     "text": [
      "nan\n"
     ]
    }
   ],
   "source": [
    "# 掩码为nan\n",
    "sst = ds['sst'].values\n",
    "print(np.max(sst))"
   ]
  },
  {
   "cell_type": "code",
   "execution_count": 8,
   "metadata": {},
   "outputs": [
    {
     "name": "stdout",
     "output_type": "stream",
     "text": [
      "<xarray.Dataset>\n",
      "Dimensions:  (time: 313, lat: 360, lon: 720)\n",
      "Coordinates:\n",
      "  * time     (time) datetime64[ns] 1993-01-01 1993-02-01 ... 2019-01-01\n",
      "  * lat      (lat) float64 -89.88 -89.37 -88.87 -88.37 ... 88.87 89.37 89.88\n",
      "  * lon      (lon) float64 -179.9 -179.4 -178.9 -178.4 ... 178.9 179.4 179.9\n",
      "Data variables:\n",
      "    sst      (time, lat, lon) float64 nan nan nan nan ... -1.66 -1.6 -1.8 -1.8\n",
      "    anom     (time, lat, lon) float64 nan nan nan nan ... 0.1398 0.1998 0.0 0.0\n",
      "    err      (time, lat, lon) float64 nan nan nan nan nan ... 0.3 0.3 0.3 0.3\n"
     ]
    }
   ],
   "source": [
    "# 降采样·\n",
    "original_lat = ds['lat']\n",
    "original_lon = ds['lon']\n",
    "# 创建新的降采样后的纬度和经度\n",
    "new_lat = np.linspace(original_lat.min(), original_lat.max(), 360)\n",
    "new_lon = np.linspace(original_lon.min(), original_lon.max(), 720)\n",
    "\n",
    "# 进行重网格化\n",
    "ds_resampled = ds.interp(lat=new_lat, lon=new_lon)\n",
    "\n",
    "print(ds_resampled)"
   ]
  },
  {
   "cell_type": "code",
   "execution_count": 7,
   "metadata": {},
   "outputs": [
    {
     "name": "stdout",
     "output_type": "stream",
     "text": [
      "<xarray.DataArray 'data' (time: 313, lat: 720, lon: 1440)>\n",
      "array([[[       nan,        nan,        nan, ...,        nan,\n",
      "                nan,        nan],\n",
      "        [       nan,        nan,        nan, ...,        nan,\n",
      "                nan,        nan],\n",
      "        [       nan,        nan,        nan, ...,        nan,\n",
      "                nan,        nan],\n",
      "        ...,\n",
      "        [-1.7958064, -1.7958064, -1.7958064, ..., -1.7958064,\n",
      "         -1.7958064, -1.7958064],\n",
      "        [-1.7954838, -1.7954838, -1.7954838, ..., -1.7954838,\n",
      "         -1.7954838, -1.7954838],\n",
      "        [-1.7954838, -1.7954838, -1.7954838, ..., -1.7954838,\n",
      "         -1.7954838, -1.7954838]],\n",
      "\n",
      "       [[       nan,        nan,        nan, ...,        nan,\n",
      "                nan,        nan],\n",
      "        [       nan,        nan,        nan, ...,        nan,\n",
      "                nan,        nan],\n",
      "        [       nan,        nan,        nan, ...,        nan,\n",
      "                nan,        nan],\n",
      "...\n",
      "        [-1.6877421, -1.7083873, -1.6709673, ..., -1.6980644,\n",
      "         -1.6809679, -1.6709673],\n",
      "        [-1.7341942, -1.7770966, -1.6503224, ..., -1.7225803,\n",
      "         -1.70129  , -1.6929038],\n",
      "        [-1.7999995, -1.7999995, -1.3522581, ..., -1.7999995,\n",
      "         -1.7999995, -1.7999995]],\n",
      "\n",
      "       [[       nan,        nan,        nan, ...,        nan,\n",
      "                nan,        nan],\n",
      "        [       nan,        nan,        nan, ...,        nan,\n",
      "                nan,        nan],\n",
      "        [       nan,        nan,        nan, ...,        nan,\n",
      "                nan,        nan],\n",
      "        ...,\n",
      "        [-1.706774 , -1.7261289, -1.6938707, ..., -1.7167741,\n",
      "         -1.7038711, -1.6938707],\n",
      "        [-1.7400006, -1.7799996, -1.66     , ..., -1.7299997,\n",
      "         -1.7099993, -1.700323 ],\n",
      "        [-1.7999995, -1.7999995, -1.38     , ..., -1.7999995,\n",
      "         -1.7999995, -1.7999995]]], dtype=float32)\n",
      "Coordinates:\n",
      "  * lat      (lat) float32 -89.88 -89.62 -89.38 -89.12 ... 89.38 89.62 89.88\n",
      "  * lon      (lon) float32 -179.9 -179.6 -179.4 -179.1 ... 179.4 179.6 179.9\n",
      "  * time     (time) datetime64[ns] 1993-01-01 1993-02-01 ... 2019-01-01\n"
     ]
    }
   ],
   "source": [
    "sst_ds = ds['sst'].rename('data')\n",
    "sst_ds = sst_ds.roll(lon=len(sst_ds.lon) // 2, roll_coords=True)\n",
    "\n",
    "# 查看结果\n",
    "print(sst_ds)\n",
    "\n",
    "# output_file = '/home/data2/pengguohang/My_Ocean/challenge/1993_2019_data/input/oisst_199301_201901_monthly.nc'\n",
    "# sst_ds.to_netcdf(output_file)\n"
   ]
  }
 ],
 "metadata": {
  "kernelspec": {
   "display_name": "py3.8",
   "language": "python",
   "name": "python3"
  },
  "language_info": {
   "codemirror_mode": {
    "name": "ipython",
    "version": 3
   },
   "file_extension": ".py",
   "mimetype": "text/x-python",
   "name": "python",
   "nbconvert_exporter": "python",
   "pygments_lexer": "ipython3",
   "version": "3.8.18"
  }
 },
 "nbformat": 4,
 "nbformat_minor": 2
}
